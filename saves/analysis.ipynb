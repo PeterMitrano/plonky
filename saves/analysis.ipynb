{
 "cells": [
  {
   "cell_type": "markdown",
   "metadata": {},
   "source": [
    "# Distrobution of Populations"
   ]
  },
  {
   "cell_type": "code",
   "execution_count": 2,
   "metadata": {
    "collapsed": true
   },
   "outputs": [],
   "source": [
    "import matplotlib.pyplot as plt\n",
    "import numpy as np"
   ]
  },
  {
   "cell_type": "code",
   "execution_count": 3,
   "metadata": {
    "collapsed": false
   },
   "outputs": [
    {
     "data": {
      "image/png": "[encoded data removed]",
      "text/plain": [
       "<matplotlib.figure.Figure at 0x7fe89d022c50>"
      ]
     },
     "metadata": {},
     "output_type": "display_data"
    },
    {
     "data": {
      "image/png": "[encoded data removed]",
      "text/plain": [
       "<matplotlib.figure.Figure at 0x7fe89d022cd0>"
      ]
     },
     "metadata": {},
     "output_type": "display_data"
    }
   ],
   "source": [
    "def pop_hist(filename, title, bins):\n",
    "    pop_f = open(filename,'r')\n",
    "    pop = [l.strip('\\n') for l in pop_f.readlines()]\n",
    "#     print(*pop, sep='\\n')\n",
    "    genes = []\n",
    "    for genome in pop:\n",
    "        genes += [int(g) for g in genome.split(' ')[:-1]]\n",
    "#     print(genes)\n",
    "    plt.title(title)\n",
    "    plt.hist(genes, bins=bins)\n",
    "    plt.show()\n",
    "    \n",
    "\n",
    "pop_hist('phrases.np', 'Phrases', 64)\n",
    "pop_hist('measures.np', 'Measures',16)"
   ]
  },
  {
   "cell_type": "markdown",
   "metadata": {
    "collapsed": true
   },
   "source": [
    "# Distrobutions of Pitches"
   ]
  },
  {
   "cell_type": "code",
   "execution_count": 4,
   "metadata": {
    "collapsed": false
   },
   "outputs": [
    {
     "data": {
      "image/png": "[encoded data removed]",
      "text/plain": [
       "<matplotlib.figure.Figure at 0x7fe89acd0ad0>"
      ]
     },
     "metadata": {},
     "output_type": "display_data"
    }
   ],
   "source": [
    "def pitch_hist(filename, title):\n",
    "    pop_f = open(filename,'r')\n",
    "    pop = [l.strip('\\n') for l in pop_f.readlines()]\n",
    "#     print(*pop, sep='\\n')\n",
    "    pitches = []\n",
    "    for genome in pop:\n",
    "        for g_s in genome.split(' ')[:-1]:\n",
    "            g_i = int(g_s)\n",
    "            if 1 < g_i < 15:\n",
    "                pitches.append(g_i)\n",
    "#     print(genes)\n",
    "    plt.title(title)\n",
    "    plt.hist(pitches)\n",
    "    plt.show()\n",
    "    \n",
    "\n",
    "pitch_hist('measures.np', 'Pitches Used')"
   ]
  },
  {
   "cell_type": "markdown",
   "metadata": {},
   "source": [
    "# Distrobution of Durations"
   ]
  },
  {
   "cell_type": "code",
   "execution_count": 5,
   "metadata": {
    "collapsed": false
   },
   "outputs": [
    {
     "data": {
      "image/png": "[encoded data removed]",
      "text/plain": [
       "<matplotlib.figure.Figure at 0x7f3e263a3b00>"
      ]
     },
     "metadata": {},
     "output_type": "display_data"
    }
   ],
   "source": [
    "def duration_hist(filename, title):\n",
    "    pop_f = open(filename,'r')\n",
    "    pop = [l.strip('\\n') for l in pop_f.readlines()]\n",
    "#     print(*pop, sep='\\n')\n",
    "    durations = []\n",
    "    note_on = False\n",
    "    duration = -1\n",
    "    for genome in pop:\n",
    "        for g_s in genome.split(' ')[:-1]:\n",
    "            g_i = int(g_s)\n",
    "            if g_i == 0:\n",
    "                if duration != -1:\n",
    "                    durations.append(duration)\n",
    "                note_on = False\n",
    "                duration = 0\n",
    "            elif 1 < g_i < 15:\n",
    "                note_on = True\n",
    "            elif note_on and g_i == 15:\n",
    "                duration += 1\n",
    "                \n",
    "    plt.title(title)\n",
    "    plt.hist(durations)\n",
    "    plt.show()\n",
    "    \n",
    "\n",
    "duration_hist('measures.np', 'Durations Used')"
   ]
  },
  {
   "cell_type": "code",
   "execution_count": null,
   "metadata": {
    "collapsed": true
   },
   "outputs": [],
   "source": []
  }
 ],
 "metadata": {
  "kernelspec": {
   "display_name": "Python 3",
   "language": "python",
   "name": "python3"
  },
  "language_info": {
   "codemirror_mode": {
    "name": "ipython",
    "version": 3
   },
   "file_extension": ".py",
   "mimetype": "text/x-python",
   "name": "python",
   "nbconvert_exporter": "python",
   "pygments_lexer": "ipython3",
   "version": "3.5.2"
  }
 },
 "nbformat": 4,
 "nbformat_minor": 2
}
